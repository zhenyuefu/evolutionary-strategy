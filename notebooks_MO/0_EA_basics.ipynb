{
 "cells": [
  {
   "cell_type": "markdown",
   "metadata": {},
   "source": [
    "# Testing Evolutionary algorithms with DEAP\n",
    "\n",
    "**S. Doncieux, Sorbonne University, 2022, [stephane.doncieux@sorbonne-universite.fr](mailto:stephane.doncieux@sorbonne-universite.fr)**\n",
    "\n",
    "_UE Robotique et Apprentissage, Master ANDROIDE_"
   ]
  },
  {
   "cell_type": "markdown",
   "metadata": {},
   "source": [
    "## Introduction to DEAP\n",
    "\n",
    "Mostly extracted from https://deap.readthedocs.io/en/master/overview.html"
   ]
  },
  {
   "cell_type": "code",
   "execution_count": 1,
   "metadata": {},
   "outputs": [],
   "source": [
    "%matplotlib inline\n",
    "import matplotlib.pyplot as plt\n",
    "import pickle\n",
    "import numpy as np\n",
    "import importlib\n",
    "import random\n",
    "\n",
    "random.seed()\n",
    "\n",
    "from deap import base, creator, benchmarks\n",
    "\n",
    "from deap import tools\n"
   ]
  },
  {
   "cell_type": "markdown",
   "metadata": {},
   "source": [
    "## A simple example"
   ]
  },
  {
   "cell_type": "code",
   "execution_count": 2,
   "metadata": {},
   "outputs": [],
   "source": [
    "## We create the types we need ##\n",
    "\n",
    "# Fitness that is minimized (-1 weight)\n",
    "if (hasattr(creator, \"FitnessMin\")):\n",
    "    # Deleting any previous definition (to avoid warning message)\n",
    "    del creator.FitnessMin\n",
    "creator.create(\"FitnessMin\", base.Fitness, weights=(-1.0,))\n",
    "\n",
    "# Individual that uses this fitness\n",
    "if (hasattr(creator, \"Individual\")):\n",
    "    # Deleting any previous definition (to avoid warning message)\n",
    "    del creator.Individual\n",
    "creator.create(\"Individual\", list, fitness=creator.FitnessMin)\n",
    "\n",
    "## Tool initialization ##\n",
    "IND_SIZE = 5\n",
    "\n",
    "# toolbox is a container, each registered function can be called later on. Example:\n",
    "# toolbox.register(\"my_function\", my_great_function, default_param=42)\n",
    "# toobox.my_function(...) calls my_great_function(...)\n",
    "# some parameters with default values can be defined when registering the function, \n",
    "# they are then transmitted to it when it is called \n",
    "# (in the example, the param default_param is transmitted to the function with the value 42)\n",
    "toolbox = base.Toolbox()\n",
    "\n",
    "# parameters are initialized between 0 and 1\n",
    "toolbox.register(\"attribute\", random.random)\n",
    "\n",
    "# individuals are made with IND_SIZE parameters\n",
    "toolbox.register(\"individual\", tools.initRepeat, creator.Individual,\n",
    "                 toolbox.attribute, n=IND_SIZE)\n",
    "\n",
    "# the population is a list of individuals\n",
    "toolbox.register(\"population\", tools.initRepeat, list, toolbox.individual)\n",
    "\n",
    "def evaluate(individual):\n",
    "    return sum(individual),\n",
    "\n",
    "# 2 points crossover\n",
    "toolbox.register(\"mate\", tools.cxTwoPoint)\n",
    "\n",
    "# gaussian mutation\n",
    "toolbox.register(\"mutate\", tools.mutGaussian, mu=0, sigma=1, indpb=0.1)\n",
    "\n",
    "# Tournament selection: select the best out of X randomly selected individuals (with X=3)\n",
    "toolbox.register(\"select\", tools.selTournament, tournsize=3)\n",
    "\n",
    "# Evaluation function to use\n",
    "toolbox.register(\"evaluate\", evaluate)\n"
   ]
  },
  {
   "cell_type": "code",
   "execution_count": 3,
   "metadata": {},
   "outputs": [],
   "source": [
    "def main(NGEN=40, POPSIZE=10):\n",
    "\n",
    "    # Initialising the population\n",
    "    pop = toolbox.population(n=POPSIZE)\n",
    "    CXPB, MUTPB = 0.5, 0.2\n",
    "\n",
    "    # Evaluate the entire population\n",
    "    fitnesses = list(map(toolbox.evaluate, pop))\n",
    "    for ind, fit in zip(pop, fitnesses):\n",
    "        ind.fitness.values = fit\n",
    "\n",
    "    for g in range(NGEN):\n",
    "        # Select the next generation individuals\n",
    "        offspring = toolbox.select(pop, len(pop))\n",
    "        # Clone the selected individuals\n",
    "        offspring = list(map(toolbox.clone, offspring))\n",
    "\n",
    "        # Apply crossover and mutation on the offspring\n",
    "        for child1, child2 in zip(offspring[::2], offspring[1::2]):\n",
    "            if random.random() < CXPB:\n",
    "                toolbox.mate(child1, child2)\n",
    "                del child1.fitness.values\n",
    "                del child2.fitness.values\n",
    "\n",
    "        for mutant in offspring:\n",
    "            if random.random() < MUTPB:\n",
    "                toolbox.mutate(mutant)\n",
    "                del mutant.fitness.values\n",
    "\n",
    "        # Evaluate the individuals with an invalid fitness\n",
    "        invalid_ind = [ind for ind in offspring if not ind.fitness.valid]\n",
    "        fitnesses = map(toolbox.evaluate, invalid_ind)\n",
    "        for ind, fit in zip(invalid_ind, fitnesses):\n",
    "            ind.fitness.values = fit\n",
    "\n",
    "        # The population is entirely replaced by the offspring\n",
    "        pop[:] = offspring\n",
    "\n",
    "    return pop"
   ]
  },
  {
   "cell_type": "code",
   "execution_count": 4,
   "metadata": {},
   "outputs": [],
   "source": [
    "pop=main(100)"
   ]
  },
  {
   "cell_type": "code",
   "execution_count": 5,
   "metadata": {},
   "outputs": [
    {
     "name": "stdout",
     "output_type": "stream",
     "text": [
      "Indiv[0]=-28.809522 [-5.760450973119745, -5.376401806184157, -5.865942791830913, -3.249416667206033, -8.557309571352523]\n",
      "Indiv[1]=-28.979408 [-5.760450973119745, -5.376401806184157, -6.03582925414387, -3.249416667206033, -8.557309571352523]\n",
      "Indiv[2]=-28.809522 [-5.760450973119745, -5.376401806184157, -5.865942791830913, -3.249416667206033, -8.557309571352523]\n",
      "Indiv[3]=-28.963300 [-5.760450973119745, -5.376401806184157, -6.03582925414387, -3.2333085204969767, -8.557309571352523]\n",
      "Indiv[4]=-28.979408 [-5.760450973119745, -5.376401806184157, -6.03582925414387, -3.249416667206033, -8.557309571352523]\n",
      "Indiv[5]=-28.793414 [-5.760450973119745, -5.376401806184157, -5.865942791830913, -3.2333085204969767, -8.557309571352523]\n",
      "Indiv[6]=-28.793414 [-5.760450973119745, -5.376401806184157, -5.865942791830913, -3.2333085204969767, -8.557309571352523]\n",
      "Indiv[7]=-28.979408 [-5.760450973119745, -5.376401806184157, -6.03582925414387, -3.249416667206033, -8.557309571352523]\n",
      "Indiv[8]=-28.963300 [-5.760450973119745, -5.376401806184157, -6.03582925414387, -3.2333085204969767, -8.557309571352523]\n",
      "Indiv[9]=-28.809522 [-5.760450973119745, -5.376401806184157, -5.865942791830913, -3.249416667206033, -8.557309571352523]\n"
     ]
    }
   ],
   "source": [
    "for i,ind in enumerate(pop):\n",
    "    print(\"Indiv[%d]=%f\"%(i,evaluate(ind)[0])+\" \"+str(ind))"
   ]
  },
  {
   "cell_type": "code",
   "execution_count": null,
   "metadata": {},
   "outputs": [],
   "source": []
  }
 ],
 "metadata": {
  "kernelspec": {
   "display_name": "Python 3",
   "language": "python",
   "name": "python3"
  },
  "language_info": {
   "codemirror_mode": {
    "name": "ipython",
    "version": 3
   },
   "file_extension": ".py",
   "mimetype": "text/x-python",
   "name": "python",
   "nbconvert_exporter": "python",
   "pygments_lexer": "ipython3",
   "version": "3.6.4"
  }
 },
 "nbformat": 4,
 "nbformat_minor": 2
}
